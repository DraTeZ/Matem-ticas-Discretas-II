{
 "cells": [
  {
   "cell_type": "markdown",
   "id": "44a1d227",
   "metadata": {},
   "source": [
    "## Algoritmo de Euclides\n",
    "#### En el siguiente código se pondrá a prueba el algoritmo de Euclides para obtener el MCD entre dos números enteros."
   ]
  },
  {
   "cell_type": "markdown",
   "id": "d13cac2f",
   "metadata": {},
   "source": [
    "#### A continuación, debe ingresar dos enteros."
   ]
  },
  {
   "cell_type": "code",
   "execution_count": 14,
   "id": "1852f1dc",
   "metadata": {},
   "outputs": [
    {
     "name": "stdout",
     "output_type": "stream",
     "text": [
      "Ingrese el primer número: 15\n",
      "Ingrese el segundo número: 3\n"
     ]
    }
   ],
   "source": [
    "num1 = int(input(\"Ingrese el primer número: \"))\n",
    "num2 = int(input(\"Ingrese el segundo número: \"))"
   ]
  },
  {
   "cell_type": "code",
   "execution_count": 15,
   "id": "e7d8e292",
   "metadata": {},
   "outputs": [
    {
     "name": "stdout",
     "output_type": "stream",
     "text": [
      "El máximo común divisor entre 15 y 3 es 3\n"
     ]
    }
   ],
   "source": [
    "def euclides(num1,num2):\n",
    " \n",
    "    # Si el num1 es inferior al num2, se invierten para dar prioridad al número mayor.\n",
    "    if num1<num2:\n",
    "        num1,num2=num2,num1\n",
    " \n",
    "    # Se obtiene el residuo de la división.\n",
    "    residuo=num1%num2\n",
    " \n",
    "    if residuo==0:\n",
    "        return (num2)\n",
    " \n",
    "    # Se llama nuevamente a la función pasando como primer parametro el segundo número y el residuo de la división.\n",
    "    return euclides(num2,residuo)\n",
    "comunDivisor=euclides(num1,num2)\n",
    "print(f\"El máximo común divisor entre {num1} y {num2} es {comunDivisor}\")"
   ]
  },
  {
   "cell_type": "code",
   "execution_count": null,
   "id": "5cb8553b",
   "metadata": {},
   "outputs": [],
   "source": []
  }
 ],
 "metadata": {
  "kernelspec": {
   "display_name": "Python 3 (ipykernel)",
   "language": "python",
   "name": "python3"
  },
  "language_info": {
   "codemirror_mode": {
    "name": "ipython",
    "version": 3
   },
   "file_extension": ".py",
   "mimetype": "text/x-python",
   "name": "python",
   "nbconvert_exporter": "python",
   "pygments_lexer": "ipython3",
   "version": "3.9.13"
  }
 },
 "nbformat": 4,
 "nbformat_minor": 5
}
