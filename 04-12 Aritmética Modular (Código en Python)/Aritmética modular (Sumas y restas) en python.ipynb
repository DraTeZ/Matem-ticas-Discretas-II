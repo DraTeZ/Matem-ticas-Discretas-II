{
 "cells": [
  {
   "cell_type": "markdown",
   "id": "0dc0c3dc",
   "metadata": {},
   "source": [
    "## Aritmética Modular\n",
    "#### A continuación se muestra un sencillo algoritmo que calcula el módulo dados dos enteros a y b y la suma de estos.\n",
    "##### Por: David Alexander Rativa Gutierrez"
   ]
  },
  {
   "cell_type": "code",
   "execution_count": 32,
   "id": "170c05a5",
   "metadata": {},
   "outputs": [
    {
     "name": "stdout",
     "output_type": "stream",
     "text": [
      "Ingrese el primer número: 6\n",
      "Ingrese el segundo número: 4\n",
      "Ingrese el módulo: 10\n"
     ]
    }
   ],
   "source": [
    "num1 = int(input(\"Ingrese el primer número: \"))\n",
    "num2 = int(input(\"Ingrese el segundo número: \"))\n",
    "mod = int(input(\"Ingrese el módulo: \"))"
   ]
  },
  {
   "cell_type": "code",
   "execution_count": 33,
   "id": "ae060cea",
   "metadata": {},
   "outputs": [
    {
     "name": "stdout",
     "output_type": "stream",
     "text": [
      "El módulo 10 de 6 es 6\n",
      "El módulo 10 de 4 es 4\n",
      "El residuo de 6 + 4 módulo 10 es 0\n"
     ]
    }
   ],
   "source": [
    "modulo = num1 % mod\n",
    "modulo2 = num2 % mod\n",
    "modulo3 = (num1 + num2) % mod\n",
    "print(f\"El módulo {mod} de {num1} es {modulo}\")\n",
    "print(f\"El módulo {mod} de {num2} es {modulo2}\")\n",
    "print(f\"El residuo de {num1} + {num2 } módulo {mod} es {modulo3}\")"
   ]
  },
  {
   "cell_type": "markdown",
   "id": "f21b6f65",
   "metadata": {},
   "source": [
    "#### A continuación se muestra un sencillo algoritmo que calcula el módulo dados dos enteros a y b y la resta de estos.\n",
    "##### Por: David Alexander Rativa Gutierrez"
   ]
  },
  {
   "cell_type": "code",
   "execution_count": 37,
   "id": "b9e11574",
   "metadata": {},
   "outputs": [
    {
     "name": "stdout",
     "output_type": "stream",
     "text": [
      "Ingrese el primer número: 13\n",
      "Ingrese el segundo número: 15\n",
      "Ingrese el módulo: 10\n"
     ]
    }
   ],
   "source": [
    "num1 = int(input(\"Ingrese el primer número: \"))\n",
    "num2 = int(input(\"Ingrese el segundo número: \"))\n",
    "mod = int(input(\"Ingrese el módulo: \"))"
   ]
  },
  {
   "cell_type": "code",
   "execution_count": 38,
   "id": "cd98e57b",
   "metadata": {},
   "outputs": [
    {
     "name": "stdout",
     "output_type": "stream",
     "text": [
      "El módulo 10 de 13 es 3\n",
      "El módulo 10 de 15 es 5\n",
      "El residuo de 13 - 15 módulo 10 es 8\n"
     ]
    }
   ],
   "source": [
    "modulo = num1 % mod\n",
    "modulo2 = num2 % mod\n",
    "modulo3 = (num1 - num2) % mod\n",
    "print(f\"El módulo {mod} de {num1} es {modulo}\")\n",
    "print(f\"El módulo {mod} de {num2} es {modulo2}\")\n",
    "print(f\"El residuo de {num1} - {num2 } módulo {mod} es {modulo3}\")"
   ]
  },
  {
   "cell_type": "code",
   "execution_count": null,
   "id": "02ae8ff4",
   "metadata": {},
   "outputs": [],
   "source": []
  }
 ],
 "metadata": {
  "kernelspec": {
   "display_name": "Python 3 (ipykernel)",
   "language": "python",
   "name": "python3"
  },
  "language_info": {
   "codemirror_mode": {
    "name": "ipython",
    "version": 3
   },
   "file_extension": ".py",
   "mimetype": "text/x-python",
   "name": "python",
   "nbconvert_exporter": "python",
   "pygments_lexer": "ipython3",
   "version": "3.9.13"
  }
 },
 "nbformat": 4,
 "nbformat_minor": 5
}
