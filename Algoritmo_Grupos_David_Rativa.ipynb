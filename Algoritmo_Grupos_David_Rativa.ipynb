{
 "cells": [
  {
   "cell_type": "markdown",
   "metadata": {},
   "source": [
    "<h1>Tarea_1: Identificar grupos por medio de tablas</h1>"
   ]
  },
  {
   "cell_type": "markdown",
   "metadata": {},
   "source": [
    "<h5> Presentado por: David Alexander Rativa Gutierrez</h5>\n",
    "<h5> Presentado a: Francisco Albeiro Gomez Jaramillo </h5>"
   ]
  },
  {
   "cell_type": "code",
   "execution_count": 1,
   "metadata": {},
   "outputs": [],
   "source": [
    "## Este algoritmo verifica si la tabla ingresada corresponde a un cuadrado latino y un grupo. O únicamente pertenece a un grupo.\n",
    "## Algoritmo creado para tablas de tamaño 3x3 o superior."
   ]
  },
  {
   "cell_type": "code",
   "execution_count": 2,
   "metadata": {},
   "outputs": [],
   "source": [
    "Matriz = []\n",
    "Borde = []\n",
    "Cuadrado_Latino = False\n",
    "Grupo = False\n",
    "Neutro = False\n",
    "resultadoNeutro = \"\"\n",
    "Inverso = False\n",
    "Asociativo = False"
   ]
  },
  {
   "cell_type": "markdown",
   "metadata": {},
   "source": [
    "###### Ingreso de Datos:\n",
    "###### Para el ingreso de los datos respectivos a la tabla, se deben escribir separados por comas y sin espacios (tal como se indica en cada instrucción de cada entrada)."
   ]
  },
  {
   "cell_type": "code",
   "execution_count": 3,
   "metadata": {},
   "outputs": [],
   "source": [
    "def verificaEntrada():\n",
    "    for subLista in Matriz:\n",
    "        for elemento in subLista:\n",
    "            if elemento not in Borde:\n",
    "                return False\n",
    "    return True"
   ]
  },
  {
   "cell_type": "code",
   "execution_count": 4,
   "metadata": {},
   "outputs": [
    {
     "name": "stdout",
     "output_type": "stream",
     "text": [
      "Ingrese el tamaño de la tabla:4\n",
      "Ingrese los elementos del marco de la tabla (Separados por comas):  a,b,c,d\n",
      "Ingrese fila 1 (Separados por comas):a,b,d,c\n",
      "Ingrese fila 2 (Separados por comas):b,c,a,d\n",
      "Ingrese fila 3 (Separados por comas):c,d,b,a\n",
      "Ingrese fila 4 (Separados por comas):d,a,c,b\n"
     ]
    }
   ],
   "source": [
    "def ingresaMatriz():\n",
    "    while True:\n",
    "        n = int(input(\"Ingrese el tamaño de la tabla:\"))\n",
    "        global Borde\n",
    "        Borde = input(\"Ingrese los elementos del marco de la tabla (Separados por comas):  \").split(',')\n",
    "        for size in range(n):\n",
    "            Matriz.append(input(\"Ingrese fila \" + str(size+1) + \" (Separados por comas):\").split(','))\n",
    "        if verificaEntrada():\n",
    "            break\n",
    "        else:\n",
    "            print(\"\\n¡La tabla no es válida! Inténtelo nuevamente.\\n\")\n",
    "\n",
    "ingresaMatriz()"
   ]
  },
  {
   "cell_type": "code",
   "execution_count": 5,
   "metadata": {},
   "outputs": [],
   "source": [
    "def verificacion(Respuesta):\n",
    "    if Respuesta:\n",
    "        return \"Afirmativo\"\n",
    "    else:\n",
    "        return \"Negativo\"\n"
   ]
  },
  {
   "cell_type": "markdown",
   "metadata": {},
   "source": [
    "## Cuadrado Latino:\n",
    "### El algoritmo verifica si la tabla corresponde a un cuadrado latino."
   ]
  },
  {
   "cell_type": "code",
   "execution_count": 6,
   "metadata": {},
   "outputs": [
    {
     "name": "stdout",
     "output_type": "stream",
     "text": [
      "¿Es un cuadrado latino? Afirmativo\n"
     ]
    }
   ],
   "source": [
    "def verificaCuadrado_Latino():\n",
    "    n = len(Matriz)\n",
    "    numeroRepetido = False\n",
    "    for fila in range(n):\n",
    "        listaRevisionFila = []\n",
    "        listaRevisionColumna = []\n",
    "        for columna in range(n):\n",
    "            if Matriz[fila][columna] not in listaRevisionFila:\n",
    "                listaRevisionFila.append(Matriz[fila][columna])\n",
    "            else:\n",
    "                numeroRepetido = True\n",
    "                break\n",
    "\n",
    "            if Matriz[columna][fila] not in listaRevisionColumna:\n",
    "                listaRevisionColumna.append(Matriz[columna][fila])\n",
    "            else:\n",
    "                numeroRepetido = True\n",
    "                break\n",
    "        if numeroRepetido:\n",
    "            break\n",
    "\n",
    "    if not numeroRepetido:\n",
    "        global Cuadrado_Latino\n",
    "        Cuadrado_Latino = True\n",
    "    print(\"¿Es un cuadrado latino? \" + verificacion(Cuadrado_Latino))\n",
    "verificaCuadrado_Latino()"
   ]
  },
  {
   "cell_type": "markdown",
   "metadata": {},
   "source": [
    "## Grupo:\n",
    "### El algoritmo verifica si la tabla corresponde a un grupo."
   ]
  },
  {
   "cell_type": "code",
   "execution_count": 7,
   "metadata": {},
   "outputs": [],
   "source": [
    "#### Neutro: Se comprueba si existe un elemento e ∈ G, tal que e•a=a, ∀ a ∈ G."
   ]
  },
  {
   "cell_type": "code",
   "execution_count": 8,
   "metadata": {},
   "outputs": [],
   "source": [
    "def getSet():\n",
    "    set = Matriz[0].copy()\n",
    "    return set"
   ]
  },
  {
   "cell_type": "code",
   "execution_count": 9,
   "metadata": {},
   "outputs": [],
   "source": [
    "def getResultado(x, y):\n",
    "    fila = Borde.index(x)\n",
    "    columna = Borde.index(y)\n",
    "    return Matriz[fila][columna]"
   ]
  },
  {
   "cell_type": "code",
   "execution_count": 10,
   "metadata": {},
   "outputs": [
    {
     "name": "stdout",
     "output_type": "stream",
     "text": [
      "¿Existe un elemento nuetro? Negativo\n"
     ]
    }
   ],
   "source": [
    "def getNeutro(setGrupo):\n",
    "    global resultadoNeutro\n",
    "    for posibleNeutro in setGrupo:\n",
    "        contador = 0\n",
    "        for dato in setGrupo:\n",
    "            Resultado = getResultado(posibleNeutro, dato)\n",
    "            if dato == Resultado:\n",
    "                contador = contador + 1\n",
    "                if contador == len(setGrupo):\n",
    "                    resultadoNeutro = posibleNeutro\n",
    "                    break\n",
    "            else:\n",
    "                break\n",
    "\n",
    "    if resultadoNeutro != \"\":\n",
    "        print(\"El elemento neutro es: \" + resultadoNeutro + \"\\n\")\n",
    "        global Neutro\n",
    "        Neutro = True\n",
    "    print(\"¿Existe un elemento nuetro? \" + verificacion(Neutro))\n",
    "getNeutro(getSet())"
   ]
  },
  {
   "cell_type": "code",
   "execution_count": 11,
   "metadata": {},
   "outputs": [],
   "source": [
    "#### Invero: Se comprueba si ∀ a ∈ G, existe un elemento único b ∈ G, tal que b•a=e (elemento neutro)."
   ]
  },
  {
   "cell_type": "code",
   "execution_count": 12,
   "metadata": {},
   "outputs": [
    {
     "name": "stdout",
     "output_type": "stream",
     "text": [
      "¿Existe un inverso único para cada elemento del conjunto? Negativo\n"
     ]
    }
   ],
   "source": [
    "def getInverso(setGrupo):\n",
    "    listaInversos = []\n",
    "    for dato in setGrupo:\n",
    "        for posibleInverso in setGrupo:\n",
    "            Resultado = getResultado(posibleInverso, dato)\n",
    "            if Resultado == resultadoNeutro:\n",
    "                if posibleInverso not in listaInversos:\n",
    "                    listaInversos.append(posibleInverso)\n",
    "                    continue\n",
    "                else:\n",
    "                    break\n",
    "    if len(listaInversos) == len(setGrupo):\n",
    "        for posicion in range(len(setGrupo)):\n",
    "            print(\"El inverso de \" + setGrupo[posicion] + \" es: \" + listaInversos[posicion])\n",
    "        print()\n",
    "        global Inverso\n",
    "        Inverso = True\n",
    "\n",
    "    print(\"¿Existe un inverso único para cada elemento del conjunto? \" + verificacion(Inverso))\n",
    "getInverso(getSet())"
   ]
  },
  {
   "cell_type": "code",
   "execution_count": 13,
   "metadata": {},
   "outputs": [],
   "source": [
    "#### Asociatividad: Se comprueba si ∀ a,b,c ∈ G se tiene que (a•b)•c = a•(b•c)."
   ]
  },
  {
   "cell_type": "code",
   "execution_count": 14,
   "metadata": {},
   "outputs": [],
   "source": [
    "def imprimeAsociativo(setGrupo, posicion):\n",
    "    operacion = \"\"\n",
    "    for tiempo in range(posicion):\n",
    "        operacion = operacion + setGrupo[tiempo] + \"*\"\n",
    "    operacion = operacion + \"(\" + setGrupo[posicion] + \"*\" + setGrupo[posicion + 1] + \")\"\n",
    "    for tiempo in range(posicion + 2, len(setGrupo)):\n",
    "        operacion = operacion + \"*\" + setGrupo[tiempo]\n",
    "    print(operacion)"
   ]
  },
  {
   "cell_type": "code",
   "execution_count": 15,
   "metadata": {},
   "outputs": [],
   "source": [
    "def operaPorPosicion(setGrupo, posicion):\n",
    "    derecha = True\n",
    "    for cont in range(len(setGrupo) - 1):\n",
    "        if not derecha:\n",
    "            posicion = posicion - 1\n",
    "        imprimeAsociativo(setGrupo.copy(), posicion)\n",
    "        x = setGrupo.pop(posicion)\n",
    "        y = setGrupo.pop(posicion)\n",
    "        Resultado = getResultado(x, y)\n",
    "        setGrupo.insert(posicion, Resultado)\n",
    "\n",
    "        if derecha:\n",
    "            try:\n",
    "                setGrupo[posicion + 1]\n",
    "            except IndexError:\n",
    "                derecha = False\n",
    "    print(setGrupo[0])\n",
    "    return setGrupo[0]"
   ]
  },
  {
   "cell_type": "code",
   "execution_count": 16,
   "metadata": {},
   "outputs": [],
   "source": [
    "def verificaAsociativo(setGrupo):\n",
    "        listaResultados = []\n",
    "        print(\"Asociaciones posibles\\n\")\n",
    "        for posicion in range(len(setGrupo) - 1):\n",
    "            listaResultados.append(operaPorPosicion(setGrupo.copy(), posicion))\n",
    "            print()\n",
    "\n",
    "        print(\"Resultados de la asociatividad obtenidos \" + str(listaResultados))\n",
    "        asociativo = True\n",
    "        for dato in listaResultados:\n",
    "            if listaResultados[0] != dato:\n",
    "                asociativo = False\n",
    "                break\n",
    "        global Asociativo\n",
    "        Asociativo = asociativo\n",
    "        print(\"¿El conjunto es asociativo? \" + verificacion(Asociativo) + \"\\n\")\n",
    "        verificaAsociativo(getSet())"
   ]
  },
  {
   "cell_type": "markdown",
   "metadata": {},
   "source": [
    "## Resultados Obtenidos:"
   ]
  },
  {
   "cell_type": "code",
   "execution_count": 17,
   "metadata": {},
   "outputs": [
    {
     "name": "stdout",
     "output_type": "stream",
     "text": [
      "¿Es un cuadrado Latino? Afirmativo\n",
      "\n",
      "¿Existe un Elemento Neutro? Negativo\n",
      "¿Existe un inverso para cada elemento del conjunto? Negativo\n",
      "¿Es asociativo?: Negativo\n",
      "Entonces no es un grupo.\n",
      "\n"
     ]
    }
   ],
   "source": [
    "print(\"¿Es un cuadrado Latino? \" + verificacion(Cuadrado_Latino))\n",
    "print()\n",
    "\n",
    "print(\"¿Existe un Elemento Neutro? \" + verificacion(Neutro))\n",
    "\n",
    "print(\"¿Existe un inverso para cada elemento del conjunto? \" + verificacion(Inverso))\n",
    "\n",
    "print(\"¿Es asociativo?: \" + verificacion(Asociativo))\n",
    "Respuesta = lambda: f\"sí\" if (Neutro and Inverso and Asociativo) else f\"no\"\n",
    "print(\"Entonces la tabla \" + Respuesta() + \" es un grupo.\" + \"\\n\")\n"
   ]
  },
  {
   "cell_type": "code",
   "execution_count": null,
   "metadata": {},
   "outputs": [],
   "source": []
  },
  {
   "cell_type": "code",
   "execution_count": null,
   "metadata": {},
   "outputs": [],
   "source": []
  },
  {
   "cell_type": "code",
   "execution_count": null,
   "metadata": {},
   "outputs": [],
   "source": []
  },
  {
   "cell_type": "code",
   "execution_count": null,
   "metadata": {},
   "outputs": [],
   "source": []
  },
  {
   "cell_type": "code",
   "execution_count": null,
   "metadata": {},
   "outputs": [],
   "source": []
  }
 ],
 "metadata": {
  "kernelspec": {
   "display_name": "Python 3 (ipykernel)",
   "language": "python",
   "name": "python3"
  },
  "language_info": {
   "codemirror_mode": {
    "name": "ipython",
    "version": 3
   },
   "file_extension": ".py",
   "mimetype": "text/x-python",
   "name": "python",
   "nbconvert_exporter": "python",
   "pygments_lexer": "ipython3",
   "version": "3.9.13"
  }
 },
 "nbformat": 4,
 "nbformat_minor": 1
}
