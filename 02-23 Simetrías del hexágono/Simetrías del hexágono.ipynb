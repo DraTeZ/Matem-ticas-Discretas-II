{
 "cells": [
  {
   "cell_type": "markdown",
   "id": "e7a14537",
   "metadata": {},
   "source": [
    "## Automorfismos de un hexágono\n",
    "#### Este algoritmo pretende simular el comportamiento de las simetrías presentes en un hexágono."
   ]
  },
  {
   "cell_type": "code",
   "execution_count": 273,
   "id": "c9a0ccfb",
   "metadata": {},
   "outputs": [
    {
     "name": "stdout",
     "output_type": "stream",
     "text": [
      "[1, 2, 3, 4, 5, 6]\n",
      "[1, 6, 5, 4, 3, 2]\n",
      "[2, 1, 6, 5, 4, 3]\n",
      "[2, 3, 4, 5, 6, 1]\n",
      "[3, 2, 1, 6, 5, 4]\n",
      "[4, 3, 2, 1, 6, 5]\n",
      "[5, 4, 3, 2, 1, 6]\n",
      "[6, 5, 4, 3, 2, 1]\n",
      "[6, 5, 4, 3, 2, 1]\n",
      "[5, 4, 3, 2, 1, 6]\n",
      "[4, 3, 2, 1, 6, 5]\n",
      "[3, 2, 1, 6, 5, 4]\n",
      "[2, 3, 4, 5, 6, 1]\n",
      "[2, 1, 6, 5, 4, 3]\n",
      "[1, 2, 3, 4, 5, 6]\n",
      "[1, 6, 5, 4, 3, 2]\n"
     ]
    }
   ],
   "source": [
    "# Función para generar todas las permutaciones de un hexágono\n",
    "def permute_hexagon(hexagon, n):\n",
    "    if n == 6:\n",
    "        # Verificar si la permutación cumple con las restricciones\n",
    "        if is_valid(hexagon):\n",
    "            print(hexagon)\n",
    "    else:\n",
    "        # Generar todas las posibles permutaciones de los vértices restantes\n",
    "        for i in range(n, 6):\n",
    "            # Intercambiar el vértice i con el vértice n\n",
    "            hexagon[n], hexagon[i] = hexagon[i], hexagon[n]\n",
    "            # Generar las permutaciones de los vértices restantes\n",
    "            permute_hexagon(hexagon, n+1)\n",
    "            # Deshacer el intercambio para volver al estado anterior\n",
    "            hexagon[n], hexagon[i] = hexagon[i], hexagon[n]\n",
    "\n",
    "# Función para verificar si una permutación cumple con las restricciones\n",
    "def is_valid(hexagon):\n",
    "    # Comprobar si la permutación es una rotación del hexágono original\n",
    "    if hexagon == [1, 2, 3, 4, 5, 6] or hexagon == [2, 3, 4, 5, 6, 1]:\n",
    "        return True\n",
    "    # Comprobar si la permutación es una reflexión del hexágono original\n",
    "    if hexagon == [6, 5, 4, 3, 2, 1] or hexagon == [1, 6, 5, 4, 3, 2] or hexagon == [2, 1, 6, 5, 4, 3] or hexagon == [3, 2, 1, 6, 5, 4] or hexagon == [4, 3, 2, 1, 6, 5] or hexagon == [5, 4, 3, 2, 1, 6]:\n",
    "        return True\n",
    "    return False\n",
    "\n",
    "hexagon = [1, 2, 3, 4, 5, 6]\n",
    "permute_hexagon(hexagon, 0)\n",
    "\n",
    "hexagon = [6, 5, 4, 3, 2, 1]\n",
    "permute_hexagon(hexagon, 0)"
   ]
  },
  {
   "cell_type": "markdown",
   "id": "4055e89b",
   "metadata": {},
   "source": [
    "### Simetrías del hexágono"
   ]
  },
  {
   "cell_type": "code",
   "execution_count": 287,
   "id": "95dca7e3",
   "metadata": {},
   "outputs": [],
   "source": [
    "# Definimos los generadores del grupo\n",
    "r = [0, 1, 2, 3, 4, 5]  # Rotaciones de 60 grados en sentido horario\n",
    "s = [6, 7, 8, 9, 10, 11]  # Reflexiones sobre un eje que une dos vértices opuestos\n",
    "\n",
    "# Definimos los elementos del grupo en términos de los generadores\n",
    "elements = []\n",
    "for i in range(6):\n",
    "    for j in range(2):\n",
    "        elements.append([r[i], j])\n",
    "elements.append([6, 0])\n",
    "elements.append([7, 1])\n",
    "elements.append([8, 0])\n",
    "elements.append([9, 1])\n",
    "elements.append([10, 0])\n",
    "elements.append([11, 1])\n",
    "\n"
   ]
  },
  {
   "cell_type": "code",
   "execution_count": 299,
   "id": "6fa1730e",
   "metadata": {},
   "outputs": [
    {
     "name": "stdout",
     "output_type": "stream",
     "text": [
      "[0, 1, 2, 3, 4, 5, 6, 7, 8, 9, 10, 11]\n",
      "[1, 0, 3, 2, 5, 4, 7, 6, 9, 8, 11, 10]\n",
      "[2, 3, 4, 5, 6, 7, 8, 9, 10, 11, 0, 1]\n",
      "[3, 2, 5, 4, 7, 6, 9, 8, 11, 10, 1, 0]\n",
      "[4, 5, 6, 7, 8, 9, 10, 11, 0, 1, 2, 3]\n",
      "[5, 4, 7, 6, 9, 8, 11, 10, 1, 0, 3, 2]\n",
      "[6, 7, 8, 9, 10, 11, 0, 1, 2, 3, 4, 5]\n",
      "[7, 6, 9, 8, 11, 10, 1, 0, 3, 2, 5, 4]\n",
      "[8, 9, 10, 11, 0, 1, 2, 3, 4, 5, 6, 7]\n",
      "[9, 8, 11, 10, 1, 0, 3, 2, 5, 4, 7, 6]\n",
      "[10, 11, 0, 1, 2, 3, 4, 5, 6, 7, 8, 9]\n",
      "[11, 10, 1, 0, 3, 2, 5, 4, 7, 6, 9, 8]\n",
      "[0, 1, 2, 3, 4, 5, 6, 7, 8, 9, 10, 11]\n",
      "[3, 2, 5, 4, 7, 6, 9, 8, 11, 10, 1, 0]\n",
      "[4, 5, 6, 7, 8, 9, 10, 11, 0, 1, 2, 3]\n",
      "[7, 6, 9, 8, 11, 10, 1, 0, 3, 2, 5, 4]\n",
      "[8, 9, 10, 11, 0, 1, 2, 3, 4, 5, 6, 7]\n",
      "[11, 10, 1, 0, 3, 2, 5, 4, 7, 6, 9, 8]\n"
     ]
    }
   ],
   "source": [
    "# Definimos la función de multiplicación del grupo\n",
    "def multiply(g1, g2):\n",
    "    r1, t1 = g1\n",
    "    r2, t2 = g2\n",
    "    r = (r1 + r2) % 6  # Combinamos las rotaciones\n",
    "    t = (t1 + t2) % 2  # Combinamos las reflexiones\n",
    "    if t1 == 6 and t2 == 6:\n",
    "        r = (r + 3) % 6  # Si hay dos reflexiones, es lo mismo que una rotación de 180 grados\n",
    "    return [r, t]\n",
    "\n",
    "# Creamos la tabla de Cayley\n",
    "table = []\n",
    "for g1 in elements:\n",
    "    row = []\n",
    "    for g2 in elements:\n",
    "        product = multiply(g1, g2)\n",
    "        index = elements.index(product)\n",
    "        row.append(index)\n",
    "    table.append(row)\n",
    "\n",
    "# Imprimimos la tabla de Cayley\n",
    "for row in table:\n",
    "    print(row[0:12])"
   ]
  },
  {
   "cell_type": "code",
   "execution_count": null,
   "id": "a770197c",
   "metadata": {},
   "outputs": [],
   "source": []
  },
  {
   "cell_type": "code",
   "execution_count": null,
   "id": "29571c0e",
   "metadata": {},
   "outputs": [],
   "source": []
  }
 ],
 "metadata": {
  "kernelspec": {
   "display_name": "Python 3 (ipykernel)",
   "language": "python",
   "name": "python3"
  },
  "language_info": {
   "codemirror_mode": {
    "name": "ipython",
    "version": 3
   },
   "file_extension": ".py",
   "mimetype": "text/x-python",
   "name": "python",
   "nbconvert_exporter": "python",
   "pygments_lexer": "ipython3",
   "version": "3.9.13"
  }
 },
 "nbformat": 4,
 "nbformat_minor": 5
}
