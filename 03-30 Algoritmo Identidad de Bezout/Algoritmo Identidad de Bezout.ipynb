{
 "cells": [
  {
   "cell_type": "markdown",
   "id": "2e57efc2",
   "metadata": {},
   "source": [
    "## Algoritmo de la identidad de Bézout\n",
    "#### En este algoritmo se muestra la identidad de Bézout cuyo teorema establece que para dos números enteros a y b diferentes de cero, existen enteros v y w tales que: av + bw = mcd(a, b)\n",
    "\n",
    "##### Por: David Alexander Rátiva Gutiérrez"
   ]
  },
  {
   "cell_type": "code",
   "execution_count": 3,
   "id": "c8bdfdf2",
   "metadata": {},
   "outputs": [
    {
     "name": "stdout",
     "output_type": "stream",
     "text": [
      "Ingrese el primer número: -112\n",
      "Ingrese el segundo número: -91\n"
     ]
    }
   ],
   "source": [
    "num1 = int(input(\"Ingrese el primer número: \"))\n",
    "num2 = int(input(\"Ingrese el segundo número: \"))"
   ]
  },
  {
   "cell_type": "code",
   "execution_count": 4,
   "id": "326269c9",
   "metadata": {},
   "outputs": [
    {
     "name": "stdout",
     "output_type": "stream",
     "text": [
      "El máximo comun divisor entre -112 y -91 es 7\n",
      "Los coeficientes asociados a la identidad de Bezout para -112 y -91 son v = 4, w = -5\n"
     ]
    }
   ],
   "source": [
    "def bezout(num1, num2):\n",
    "    if num1 == 0:\n",
    "        return num2, 0, 1\n",
    "    else:\n",
    "        comunDivisor, numidentidad1, numidentidad2 = bezout(num2 % num1, num1)  \n",
    "    return comunDivisor, numidentidad2 - (num2 // num1) * numidentidad1, numidentidad1\n",
    "comunDivisor, numidentidad1, numidentidad2 = bezout(num1, num2)\n",
    "if comunDivisor < 0:\n",
    "    print(f\"El máximo comun divisor entre {num1} y {num2} es {-comunDivisor}\")\n",
    "    print(f'Los coeficientes asociados a la identidad de Bezout para {num1} y {num2} son v = {-numidentidad1}, w = {-numidentidad2}')\n",
    "else:\n",
    "    print(f\"El máximo comun divisor entre {num1} y {num2} es {comunDivisor}\")\n",
    "    print(f'Los coeficientes asociados a la identidad de Bezout para {num1} y {num2} son v = {numidentidad1}, w = {numidentidad2}')"
   ]
  },
  {
   "cell_type": "code",
   "execution_count": null,
   "id": "92e09703",
   "metadata": {},
   "outputs": [],
   "source": []
  },
  {
   "cell_type": "code",
   "execution_count": null,
   "id": "c0d180a6",
   "metadata": {},
   "outputs": [],
   "source": []
  }
 ],
 "metadata": {
  "kernelspec": {
   "display_name": "Python 3 (ipykernel)",
   "language": "python",
   "name": "python3"
  },
  "language_info": {
   "codemirror_mode": {
    "name": "ipython",
    "version": 3
   },
   "file_extension": ".py",
   "mimetype": "text/x-python",
   "name": "python",
   "nbconvert_exporter": "python",
   "pygments_lexer": "ipython3",
   "version": "3.9.13"
  }
 },
 "nbformat": 4,
 "nbformat_minor": 5
}
