{
 "cells": [
  {
   "cell_type": "markdown",
   "id": "bfbf52b9",
   "metadata": {},
   "source": [
    "## Algoritmo de la división\n",
    "#### En este código encontrará el algoritmo de la división que se utiliza para encontrar el cociente y el resto de una división entre dos números de la forma a = qn + r. "
   ]
  },
  {
   "cell_type": "code",
   "execution_count": 8,
   "id": "d710b719",
   "metadata": {},
   "outputs": [
    {
     "name": "stdout",
     "output_type": "stream",
     "text": [
      "Ingrese el primer número: -4\n",
      "Ingrese el segundo número: 5\n"
     ]
    }
   ],
   "source": [
    "num1 = int(input(\"Ingrese el primer número: \"))\n",
    "num2 = int(input(\"Ingrese el segundo número: \"))"
   ]
  },
  {
   "cell_type": "code",
   "execution_count": 9,
   "id": "d9986993",
   "metadata": {},
   "outputs": [
    {
     "name": "stdout",
     "output_type": "stream",
     "text": [
      "El cociente de la división de -4 entre 5 es: -1\n",
      "El residuo de la división de -4 entre 5 es: 1\n",
      "La ecuación para la división de -4 entre 5 es: -4 = (-1 * 5) + 1\n"
     ]
    }
   ],
   "source": [
    "def algoritmoDivision(num1,num2):\n",
    "    if(num2 > 0 ):\n",
    "        \n",
    "        cociente=num1//num2\n",
    "        residuo=num1%num2 \n",
    "       \n",
    "        print(f\"El cociente de la división de {num1} entre {num2} es: {cociente}\")\n",
    "        num1 = num2 * cociente + residuo\n",
    "        print(f\"El residuo de la división de {num1} entre {num2} es: {residuo}\")\n",
    "        print(f\"La ecuación para la división de {num1} entre {num2} es: {num1} = ({cociente} * {num2}) + {residuo}\")    \n",
    "    else:\n",
    "        print(\"No se puede dividir entre cero\")\n",
    "\n",
    "algoritmoDivision(num1,num2)"
   ]
  },
  {
   "cell_type": "code",
   "execution_count": null,
   "id": "b278dc4e",
   "metadata": {},
   "outputs": [],
   "source": []
  }
 ],
 "metadata": {
  "kernelspec": {
   "display_name": "Python 3 (ipykernel)",
   "language": "python",
   "name": "python3"
  },
  "language_info": {
   "codemirror_mode": {
    "name": "ipython",
    "version": 3
   },
   "file_extension": ".py",
   "mimetype": "text/x-python",
   "name": "python",
   "nbconvert_exporter": "python",
   "pygments_lexer": "ipython3",
   "version": "3.9.13"
  }
 },
 "nbformat": 4,
 "nbformat_minor": 5
}
