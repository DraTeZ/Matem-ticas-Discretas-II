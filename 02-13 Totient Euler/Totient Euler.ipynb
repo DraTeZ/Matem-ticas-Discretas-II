{
 "cells": [
  {
   "cell_type": "markdown",
   "id": "4c579f62",
   "metadata": {},
   "source": [
    "## Totient"
   ]
  },
  {
   "cell_type": "markdown",
   "id": "ca4940a6",
   "metadata": {},
   "source": [
    "#### By: David Alexander Rativa"
   ]
  },
  {
   "cell_type": "code",
   "execution_count": 129,
   "id": "f6f6a060",
   "metadata": {},
   "outputs": [],
   "source": [
    "a=25055484"
   ]
  },
  {
   "cell_type": "markdown",
   "id": "3e5e593d",
   "metadata": {},
   "source": [
    "#### Función que cuente los coprimos de un número dado por el método tradicional"
   ]
  },
  {
   "cell_type": "code",
   "execution_count": 130,
   "id": "d865b6cd",
   "metadata": {},
   "outputs": [
    {
     "name": "stdout",
     "output_type": "stream",
     "text": [
      "7813888\n",
      "La función tardó 51.95408789999965 segundos en ejecutarse para el número 25055484 por el método tradicional\n"
     ]
    }
   ],
   "source": [
    "import time\n",
    "def mcd(a,b):\n",
    "    if b==0:\n",
    "        return a\n",
    "    else:\n",
    "        return mcd(b, a%b)\n",
    "def cont_coprimos(n):\n",
    "    contador=0\n",
    "    for i in range(1,n):\n",
    "        if mcd(i,n) == 1:\n",
    "            contador += 1\n",
    "    return contador\n",
    "print(cont_coprimos(a))\n",
    "inicio = time.perf_counter()\n",
    "cont_coprimos(a)\n",
    "fin = time.perf_counter()\n",
    "tiempo = fin - inicio\n",
    "print(f\"La función tardó {tiempo} segundos en ejecutarse para el número {a} por el método tradicional\")"
   ]
  },
  {
   "cell_type": "markdown",
   "id": "a2d027c9",
   "metadata": {},
   "source": [
    "#### Función que cuente los coprimos de un número dado por el método efectivo"
   ]
  },
  {
   "cell_type": "code",
   "execution_count": 131,
   "id": "b822cc85",
   "metadata": {},
   "outputs": [
    {
     "name": "stdout",
     "output_type": "stream",
     "text": [
      "2\n",
      "La función tardó 9.550000049785012e-05 segundos en ejecutarse para el número 25055484 por el método efectivo\n"
     ]
    }
   ],
   "source": [
    "import time\n",
    "import math\n",
    "a=25055484\n",
    "def generador(a):\n",
    "    if a==1:\n",
    "        return 1\n",
    "    elementos = []\n",
    "    i=2\n",
    "    while i*i<=a:\n",
    "        if a%i:\n",
    "            i+= 1\n",
    "        else:\n",
    "            a//= i\n",
    "            elementos.append(i)\n",
    "    if a>1:\n",
    "        elementos.append(a)\n",
    "    totients = []\n",
    "    for elemento in set(elementos):\n",
    "        if elementos.count(elemento)==1:\n",
    "            totients.append(elemento-1)\n",
    "        else:\n",
    "            totients.append(elemento**(elementos.count(elemento)-1) * (elemento-1))\n",
    "        totient = 1\n",
    "        for t in totients:\n",
    "            totient *= t\n",
    "        return totient\n",
    "print(generador(a))\n",
    "inicio = time.perf_counter()\n",
    "generador(a)\n",
    "fin = time.perf_counter()\n",
    "tiempo = fin - inicio\n",
    "print(f\"La función tardó {tiempo} segundos en ejecutarse para el número {a} por el método efectivo\")"
   ]
  },
  {
   "cell_type": "code",
   "execution_count": null,
   "id": "9ac42f5d",
   "metadata": {},
   "outputs": [],
   "source": []
  },
  {
   "cell_type": "code",
   "execution_count": null,
   "id": "a865c127",
   "metadata": {},
   "outputs": [],
   "source": []
  },
  {
   "cell_type": "code",
   "execution_count": null,
   "id": "8187ba5f",
   "metadata": {},
   "outputs": [],
   "source": []
  }
 ],
 "metadata": {
  "kernelspec": {
   "display_name": "Python 3 (ipykernel)",
   "language": "python",
   "name": "python3"
  },
  "language_info": {
   "codemirror_mode": {
    "name": "ipython",
    "version": 3
   },
   "file_extension": ".py",
   "mimetype": "text/x-python",
   "name": "python",
   "nbconvert_exporter": "python",
   "pygments_lexer": "ipython3",
   "version": "3.9.13"
  }
 },
 "nbformat": 4,
 "nbformat_minor": 5
}
